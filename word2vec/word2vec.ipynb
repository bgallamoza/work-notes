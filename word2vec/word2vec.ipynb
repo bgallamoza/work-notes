{
 "cells": [
  {
   "cell_type": "markdown",
   "metadata": {},
   "source": [
    "## Word2Vec Explained\n",
    "\n",
    "Tutorial found here: https://towardsdatascience.com/word2vec-explained-49c52b4ccb71"
   ]
  },
  {
   "cell_type": "markdown",
   "metadata": {},
   "source": [
    "### Importing Data"
   ]
  },
  {
   "cell_type": "code",
   "execution_count": 3,
   "metadata": {},
   "outputs": [],
   "source": [
    "# imports\n",
    "import nltk\n",
    "import pandas as pd\n",
    "import string\n",
    "import matplotlib.pyplot as plt\n",
    "\n",
    "from nltk.corpus import stopwords\n",
    "from nltk import word_tokenize\n",
    "from gensim.models import Word2Vec as w2v\n",
    "from sklearn.decomposition import PCA\n",
    "\n",
    "# constants\n",
    "PATH = 'data/shakespeare.txt'\n",
    "sw = stopwords.words('english')\n",
    "plt.style.use('ggplot')\n",
    "# nltk.download('stopwords')\n",
    "# nltk.download('punkt')"
   ]
  },
  {
   "cell_type": "code",
   "execution_count": 11,
   "metadata": {},
   "outputs": [],
   "source": [
    "# import data\n",
    "lines = []\n",
    "with open(PATH, 'r') as f:\n",
    "    for l in f:\n",
    "        lines.append(l)"
   ]
  },
  {
   "cell_type": "markdown",
   "metadata": {},
   "source": [
    "### Preprocessing Data\n",
    "\n",
    "#### Important Terms:\n",
    "\n",
    "- **Stopwords**\n",
    "    - \"Filler\" words with little or no meaning that help form a sentence.\n",
    "    - Example: In the phrase \"What is a motherboard?\", we would only look at the word \"motherboard\" because [ \"what\", \"is\", \"a\" ] don't have significant meaning, only serving to create a grammatically correct sentence."
   ]
  },
  {
   "cell_type": "code",
   "execution_count": 12,
   "metadata": {},
   "outputs": [],
   "source": [
    "# remove new lines and lowercase all lines\n",
    "lines = [ line.rstrip('\\n').lower() for line in lines ]\n",
    "\n",
    "# remove punctuations from each line\n",
    "lines = [ line.translate(str.maketrans('', '', string.punctuation)) for line in lines ]\n",
    "\n",
    "# tokenize each line, turning each line into a list of unique words\n",
    "lines = [ word_tokenize(line) for line in lines ]\n",
    "\n",
    "def remove_stopwords(lines: list[list[str]], sw = sw) -> list[list[str]]:\n",
    "    \"\"\"\n",
    "    Removes stopwords from a given array of lines.\n",
    "\n",
    "    PARAMS:\n",
    "        lines ( list[list[str]] ): List of list of lines you want to remove stopwords from\n",
    "        sw (Set): The set of stopwords you want to remove\n",
    "    \"\"\"\n",
    "\n",
    "    res = []\n",
    "    for line in lines:\n",
    "        original = line\n",
    "        line = [ w for w in line if w not in sw ]\n",
    "        if len(line) < 1:\n",
    "            line = original\n",
    "        res.append(line)\n",
    "\n",
    "    return res\n",
    "\n",
    "filtered_lines = remove_stopwords(lines=lines, sw=sw)"
   ]
  },
  {
   "cell_type": "markdown",
   "metadata": {},
   "source": [
    "### Obtaining the Embedding Data"
   ]
  },
  {
   "cell_type": "code",
   "execution_count": 13,
   "metadata": {},
   "outputs": [
    {
     "name": "stdout",
     "output_type": "stream",
     "text": [
      "[('thyself', 0.8340429067611694), ('art', 0.8192573189735413), ('villain', 0.7774289846420288), ('dost', 0.7729523181915283), ('wherefore', 0.7200782299041748), ('hast', 0.7101806998252869), ('kill', 0.7069992423057556), ('wilt', 0.6971310377120972), ('devil', 0.6892587542533875), ('fellow', 0.688782811164856)]\n"
     ]
    }
   ],
   "source": [
    "w = w2v(filtered_lines, min_count=3, sg=1, window=7)\n",
    "\n",
    "print(w.wv.most_similar('thou'))"
   ]
  },
  {
   "cell_type": "code",
   "execution_count": 14,
   "metadata": {},
   "outputs": [
    {
     "name": "stdout",
     "output_type": "stream",
     "text": [
      "(11628, 100)\n"
     ]
    },
    {
     "data": {
      "text/html": [
       "<div>\n",
       "<style scoped>\n",
       "    .dataframe tbody tr th:only-of-type {\n",
       "        vertical-align: middle;\n",
       "    }\n",
       "\n",
       "    .dataframe tbody tr th {\n",
       "        vertical-align: top;\n",
       "    }\n",
       "\n",
       "    .dataframe thead th {\n",
       "        text-align: right;\n",
       "    }\n",
       "</style>\n",
       "<table border=\"1\" class=\"dataframe\">\n",
       "  <thead>\n",
       "    <tr style=\"text-align: right;\">\n",
       "      <th></th>\n",
       "      <th>0</th>\n",
       "      <th>1</th>\n",
       "      <th>2</th>\n",
       "      <th>3</th>\n",
       "      <th>4</th>\n",
       "      <th>5</th>\n",
       "      <th>6</th>\n",
       "      <th>7</th>\n",
       "      <th>8</th>\n",
       "      <th>9</th>\n",
       "      <th>...</th>\n",
       "      <th>90</th>\n",
       "      <th>91</th>\n",
       "      <th>92</th>\n",
       "      <th>93</th>\n",
       "      <th>94</th>\n",
       "      <th>95</th>\n",
       "      <th>96</th>\n",
       "      <th>97</th>\n",
       "      <th>98</th>\n",
       "      <th>99</th>\n",
       "    </tr>\n",
       "  </thead>\n",
       "  <tbody>\n",
       "    <tr>\n",
       "      <th>thou</th>\n",
       "      <td>-0.133088</td>\n",
       "      <td>0.094325</td>\n",
       "      <td>0.735614</td>\n",
       "      <td>0.671405</td>\n",
       "      <td>-0.557738</td>\n",
       "      <td>-0.711341</td>\n",
       "      <td>0.390268</td>\n",
       "      <td>0.460279</td>\n",
       "      <td>-0.370372</td>\n",
       "      <td>-0.288841</td>\n",
       "      <td>...</td>\n",
       "      <td>0.193732</td>\n",
       "      <td>0.028354</td>\n",
       "      <td>0.358083</td>\n",
       "      <td>0.117176</td>\n",
       "      <td>1.019439</td>\n",
       "      <td>0.611864</td>\n",
       "      <td>-0.523380</td>\n",
       "      <td>-0.236289</td>\n",
       "      <td>0.016030</td>\n",
       "      <td>0.499544</td>\n",
       "    </tr>\n",
       "    <tr>\n",
       "      <th>thy</th>\n",
       "      <td>0.013722</td>\n",
       "      <td>0.212082</td>\n",
       "      <td>0.537299</td>\n",
       "      <td>0.082395</td>\n",
       "      <td>0.167005</td>\n",
       "      <td>-0.191866</td>\n",
       "      <td>0.331654</td>\n",
       "      <td>0.510604</td>\n",
       "      <td>-0.135287</td>\n",
       "      <td>-0.444071</td>\n",
       "      <td>...</td>\n",
       "      <td>0.250308</td>\n",
       "      <td>-0.305248</td>\n",
       "      <td>0.488403</td>\n",
       "      <td>-0.212091</td>\n",
       "      <td>0.435958</td>\n",
       "      <td>0.254096</td>\n",
       "      <td>-0.090079</td>\n",
       "      <td>-0.376420</td>\n",
       "      <td>-0.050359</td>\n",
       "      <td>0.069020</td>\n",
       "    </tr>\n",
       "    <tr>\n",
       "      <th>shall</th>\n",
       "      <td>-0.023963</td>\n",
       "      <td>0.181451</td>\n",
       "      <td>-0.007479</td>\n",
       "      <td>0.007424</td>\n",
       "      <td>0.630428</td>\n",
       "      <td>-0.298541</td>\n",
       "      <td>0.121178</td>\n",
       "      <td>0.432129</td>\n",
       "      <td>-0.176544</td>\n",
       "      <td>0.231383</td>\n",
       "      <td>...</td>\n",
       "      <td>0.398175</td>\n",
       "      <td>0.082615</td>\n",
       "      <td>-0.061163</td>\n",
       "      <td>-0.204444</td>\n",
       "      <td>0.612396</td>\n",
       "      <td>0.128246</td>\n",
       "      <td>0.173047</td>\n",
       "      <td>-0.065504</td>\n",
       "      <td>0.306166</td>\n",
       "      <td>0.103473</td>\n",
       "    </tr>\n",
       "    <tr>\n",
       "      <th>thee</th>\n",
       "      <td>-0.431435</td>\n",
       "      <td>0.276851</td>\n",
       "      <td>0.374114</td>\n",
       "      <td>0.374049</td>\n",
       "      <td>0.061564</td>\n",
       "      <td>-0.299603</td>\n",
       "      <td>0.447940</td>\n",
       "      <td>0.412501</td>\n",
       "      <td>0.084078</td>\n",
       "      <td>-0.255812</td>\n",
       "      <td>...</td>\n",
       "      <td>0.145029</td>\n",
       "      <td>-0.021372</td>\n",
       "      <td>0.109499</td>\n",
       "      <td>-0.108788</td>\n",
       "      <td>0.808139</td>\n",
       "      <td>0.445928</td>\n",
       "      <td>0.149027</td>\n",
       "      <td>0.030214</td>\n",
       "      <td>0.341812</td>\n",
       "      <td>0.146067</td>\n",
       "    </tr>\n",
       "    <tr>\n",
       "      <th>good</th>\n",
       "      <td>-0.170398</td>\n",
       "      <td>0.312348</td>\n",
       "      <td>0.297813</td>\n",
       "      <td>-0.219587</td>\n",
       "      <td>0.270347</td>\n",
       "      <td>0.127015</td>\n",
       "      <td>0.339152</td>\n",
       "      <td>0.751706</td>\n",
       "      <td>-0.204781</td>\n",
       "      <td>0.106655</td>\n",
       "      <td>...</td>\n",
       "      <td>0.479847</td>\n",
       "      <td>-0.008000</td>\n",
       "      <td>0.298030</td>\n",
       "      <td>-0.089343</td>\n",
       "      <td>0.452030</td>\n",
       "      <td>-0.058212</td>\n",
       "      <td>0.117068</td>\n",
       "      <td>-0.138879</td>\n",
       "      <td>0.406164</td>\n",
       "      <td>-0.088615</td>\n",
       "    </tr>\n",
       "  </tbody>\n",
       "</table>\n",
       "<p>5 rows × 100 columns</p>\n",
       "</div>"
      ],
      "text/plain": [
       "             0         1         2         3         4         5         6   \\\n",
       "thou  -0.133088  0.094325  0.735614  0.671405 -0.557738 -0.711341  0.390268   \n",
       "thy    0.013722  0.212082  0.537299  0.082395  0.167005 -0.191866  0.331654   \n",
       "shall -0.023963  0.181451 -0.007479  0.007424  0.630428 -0.298541  0.121178   \n",
       "thee  -0.431435  0.276851  0.374114  0.374049  0.061564 -0.299603  0.447940   \n",
       "good  -0.170398  0.312348  0.297813 -0.219587  0.270347  0.127015  0.339152   \n",
       "\n",
       "             7         8         9   ...        90        91        92  \\\n",
       "thou   0.460279 -0.370372 -0.288841  ...  0.193732  0.028354  0.358083   \n",
       "thy    0.510604 -0.135287 -0.444071  ...  0.250308 -0.305248  0.488403   \n",
       "shall  0.432129 -0.176544  0.231383  ...  0.398175  0.082615 -0.061163   \n",
       "thee   0.412501  0.084078 -0.255812  ...  0.145029 -0.021372  0.109499   \n",
       "good   0.751706 -0.204781  0.106655  ...  0.479847 -0.008000  0.298030   \n",
       "\n",
       "             93        94        95        96        97        98        99  \n",
       "thou   0.117176  1.019439  0.611864 -0.523380 -0.236289  0.016030  0.499544  \n",
       "thy   -0.212091  0.435958  0.254096 -0.090079 -0.376420 -0.050359  0.069020  \n",
       "shall -0.204444  0.612396  0.128246  0.173047 -0.065504  0.306166  0.103473  \n",
       "thee  -0.108788  0.808139  0.445928  0.149027  0.030214  0.341812  0.146067  \n",
       "good  -0.089343  0.452030 -0.058212  0.117068 -0.138879  0.406164 -0.088615  \n",
       "\n",
       "[5 rows x 100 columns]"
      ]
     },
     "execution_count": 14,
     "metadata": {},
     "output_type": "execute_result"
    }
   ],
   "source": [
    "emb_df = (\n",
    "    pd.DataFrame(\n",
    "        [ w.wv.get_vector(str(n)) for n in w.wv.key_to_index ],\n",
    "        index = w.wv.key_to_index\n",
    "    )\n",
    ")\n",
    "\n",
    "print(emb_df.shape)\n",
    "emb_df.head()"
   ]
  },
  {
   "cell_type": "markdown",
   "metadata": {},
   "source": [
    "### Plotting the Data\n",
    "\n",
    "**More on PCA:**\n",
    "\n",
    "https://www.sartorius.com/en/knowledge/science-snippets/what-is-principal-component-analysis-pca-and-how-it-is-used-507186"
   ]
  },
  {
   "cell_type": "code",
   "execution_count": 15,
   "metadata": {},
   "outputs": [
    {
     "data": {
      "text/plain": [
       "[]"
      ]
     },
     "execution_count": 15,
     "metadata": {},
     "output_type": "execute_result"
    },
    {
     "data": {
      "text/plain": [
       "<Figure size 432x288 with 0 Axes>"
      ]
     },
     "metadata": {},
     "output_type": "display_data"
    },
    {
     "data": {
      "image/png": "[encoded data removed]",
      "text/plain": [
       "<Figure size 432x288 with 1 Axes>"
      ]
     },
     "metadata": {
      "needs_background": "light"
     },
     "output_type": "display_data"
    }
   ],
   "source": [
    "# Create a Principal Component Analysis model\n",
    "pca = PCA(n_components=2, random_state=7)\n",
    "\n",
    "# Train PCA model on our embedding data\n",
    "pca_mdl = pca.fit_transform(emb_df)\n",
    "\n",
    "# Plot Data\n",
    "emb_df_PCA = (\n",
    "    pd.DataFrame(\n",
    "        pca_mdl,\n",
    "        columns=['x','y'],\n",
    "        index=emb_df.index\n",
    "    )\n",
    ")\n",
    "\n",
    "plt.clf()\n",
    "fig = plt.figure(figsize=(6,4))\n",
    "\n",
    "plt.scatter(\n",
    "    x = emb_df_PCA['x'],\n",
    "    y = emb_df_PCA['y'],\n",
    "    s = 0.4,\n",
    "    color = 'maroon',\n",
    "    alpha = 0.5\n",
    ")\n",
    "\n",
    "plt.xlabel('PCA-1')\n",
    "plt.ylabel('PCA-2')\n",
    "plt.title('PCA Visualization')\n",
    "plt.plot()"
   ]
  },
  {
   "cell_type": "code",
   "execution_count": null,
   "metadata": {},
   "outputs": [],
   "source": []
  }
 ],
 "metadata": {
  "interpreter": {
   "hash": "be43905bfd324f5534f32fa5fd84a844ed612601ac6ee2d3fc95da0a82465c53"
  },
  "kernelspec": {
   "display_name": "Python 3.9.7 ('microbots')",
   "language": "python",
   "name": "python3"
  },
  "language_info": {
   "codemirror_mode": {
    "name": "ipython",
    "version": 3
   },
   "file_extension": ".py",
   "mimetype": "text/x-python",
   "name": "python",
   "nbconvert_exporter": "python",
   "pygments_lexer": "ipython3",
   "version": "3.9.7"
  },
  "orig_nbformat": 4
 },
 "nbformat": 4,
 "nbformat_minor": 2
}
